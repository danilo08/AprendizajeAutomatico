{
 "cells": [
  {
   "cell_type": "markdown",
   "metadata": {},
   "source": [
    "# Proyecto Final Aprendizaje Automatico"
   ]
  },
  {
   "cell_type": "markdown",
   "metadata": {},
   "source": [
    "## Prediccion de puntuacion de un producto en la aplicacion Wish"
   ]
  },
  {
   "cell_type": "markdown",
   "metadata": {},
   "source": [
    "Autores: Daniel López Acero y Antonio Luis Suarez Solis"
   ]
  },
  {
   "cell_type": "markdown",
   "metadata": {},
   "source": [
    "### ¿En que consite nuestro proyecto?"
   ]
  },
  {
   "cell_type": "markdown",
   "metadata": {},
   "source": [
    "El objetivo de nuestro proyecto es tratar de predecir si la nota que tendra un producto puesto en venta en la aplicacion Wish sera buena o mala, por medio de la aplicacion de distintas tecnicas de aprendizaje automatico aprendidas y utilizada durante el curso a una base de datos obtenia de Kaggle.com"
   ]
  },
  {
   "cell_type": "markdown",
   "metadata": {},
   "source": [
    "Dicha base de datos es esta: https://www.kaggle.com/jmmvutu/summer-products-and-sales-in-ecommerce-wish"
   ]
  },
  {
   "cell_type": "markdown",
   "metadata": {},
   "source": [
    "Antes de ponernos a trabjar, nuestro primer objetivo es realizar un analisis a la base de datos y realizar observaciones.\n",
    "Esta base de datos cuenta con muchisimos datos de los cuales utilizaremos los mas apropiados y adecuados para desempeñar nuestro objetivo"
   ]
  },
  {
   "cell_type": "markdown",
   "metadata": {},
   "source": [
    "### Datos:"
   ]
  },
  {
   "cell_type": "markdown",
   "metadata": {},
   "source": [
    "- Price (Precio del producto)\n",
    "- retail_price (Precio del producto en otras paginas webs)\n",
    "- units_sold  (Cantidad de productos vendidos)\n",
    "- uses_ad_boosts (Si el usuario ha utilizado un boost de publicidad o no)\n",
    "- rating  (Nota media del producto)\n",
    "- rating_count (Cantidad de valoraciones del producto)"
   ]
  },
  {
   "cell_type": "markdown",
   "metadata": {},
   "source": [
    "Vistos los datos que queremos utilizar comenzamos comparandolos, para ello lo que hicimos fue dividir los datos entre los que estan bien valorados y los que no lo estan"
   ]
  },
  {
   "cell_type": "markdown",
   "metadata": {},
   "source": [
    "### GRAFICAS COMPARATIVOS"
   ]
  },
  {
   "cell_type": "markdown",
   "metadata": {},
   "source": [
    "<img src=\"gcomparativaPrice.png\">\n",
    "<img src=\"gcomparativaretailPrice.png\">\n",
    "<img src=\"gcomparativaUnidadesVendidas.png\">\n",
    "<img src=\"gcomparativaboosts.png\">"
   ]
  },
  {
   "cell_type": "markdown",
   "metadata": {},
   "source": [
    "<img src=\"comparacion.png\">"
   ]
  },
  {
   "cell_type": "markdown",
   "metadata": {},
   "source": [
    "\n"
   ]
  },
  {
   "cell_type": "code",
   "execution_count": 23,
   "metadata": {},
   "outputs": [],
   "source": [
    "#imports\n",
    "import pandas as pd\n",
    "from pandas import DataFrame\n",
    "import time\n",
    "import numpy as np\n",
    "import random\n",
    "import matplotlib.pyplot as plt\n",
    "import scipy.optimize as opt\n",
    "from sklearn import metrics\n",
    "from sklearn import preprocessing\n",
    "from scipy.optimize import minimize as sciMin\n",
    "from scipy.io import loadmat\n",
    "from sklearn.preprocessing import PolynomialFeatures\n",
    "from sklearn.model_selection import train_test_split\n",
    "from sklearn import svm"
   ]
  },
  {
   "cell_type": "code",
   "execution_count": 24,
   "metadata": {},
   "outputs": [],
   "source": [
    "data = pd.read_csv('summer-products-with-rating-and-performance_2020-08.csv')"
   ]
  },
  {
   "cell_type": "code",
   "execution_count": 25,
   "metadata": {},
   "outputs": [],
   "source": [
    "def rating_bynary_trans(rate):\n",
    "    if rate < 3.7:\n",
    "        return 0\n",
    "    else:\n",
    "        return 1"
   ]
  },
  {
   "cell_type": "code",
   "execution_count": 26,
   "metadata": {},
   "outputs": [],
   "source": [
    "data.drop(labels = [\"title\",\"title_orig\",\"currency_buyer\", 'rating_five_count', 'rating_four_count', 'rating_three_count', 'rating_two_count', 'rating_one_count', 'badges_count', 'badge_local_product', 'badge_product_quality', 'badge_fast_shipping', 'tags', 'product_color', 'product_variation_size_id', 'product_variation_inventory', 'shipping_option_name', 'shipping_option_price', 'shipping_is_express', 'shipping_option_price', 'countries_shipped_to', 'inventory_total', 'has_urgency_banner', 'urgency_text', 'origin_country', 'merchant_title', 'merchant_name', 'merchant_info_subtitle', 'merchant_rating_count', 'merchant_rating', 'merchant_id', 'merchant_has_profile_picture', 'merchant_profile_picture', 'product_url', 'product_picture', 'product_id', 'theme', 'crawl_month'], axis = 1, inplace = True)\n",
    "\n",
    "data[\"NiceRating\"] = data[\"rating\"].map(rating_bynary_trans)\n",
    "data = data.reset_index(drop=True)\n",
    "\n",
    "models_times = np.arange(4, dtype = float)\n",
    "\n",
    "\n",
    "i = 0\n",
    "def graficaComparativa(campo,titulo,ticklabels):\n",
    "    global i\n",
    "    cantidades = data[campo].value_counts()\n",
    "    lables = cantidades.axes[0].tolist()\n",
    "    index = np.arange(len(lables))\n",
    "\n",
    "    badRating = []\n",
    "    niceRating = []\n",
    "\n",
    "    for shapes in lables:\n",
    "        quantity = len(data[data[campo] == shapes].index)\n",
    "        highRated = len(data[(data[campo] == shapes) & (data['NiceRating'] == 1)].index)\n",
    "        niceRating.append(highRated)\n",
    "        badRating.append(quantity-highRated)\n",
    "\n",
    "    ancho = 0.4\n",
    "    fig, ax = plt.subplots(figsize=(20,7))\n",
    "    ax.bar(index, niceRating, ancho, color='#04B486')\n",
    "    ax.bar(index+ancho, badRating, ancho, color='#C74B08')\n",
    "    ax.set_xlabel(campo, fontsize = 15)\n",
    "    ax.set_ylabel('Productos',fontsize=15)  \n",
    "    ax.set_title(titulo,fontsize=15)\n",
    "    ax.set_xticks(index+ancho/2)\n",
    "    ax.set_xticklabels(ticklabels, fontsize=10)\n",
    "    ax.legend(['High Rated', 'Not High Rated'])\n",
    "    i = i + 1\n",
    "    plt.show()"
   ]
  },
  {
   "cell_type": "code",
   "execution_count": 27,
   "metadata": {},
   "outputs": [
    {
     "name": "stdout",
     "output_type": "stream",
     "text": [
      "<class 'pandas.core.frame.DataFrame'>\n",
      "RangeIndex: 1573 entries, 0 to 1572\n",
      "Data columns (total 11 columns):\n",
      " #   Column          Non-Null Count  Dtype  \n",
      "---  ------          --------------  -----  \n",
      " 0   price           1573 non-null   float64\n",
      " 1   retail_price    1573 non-null   int64  \n",
      " 2   units_sold      1573 non-null   int64  \n",
      " 3   uses_ad_boosts  1573 non-null   int64  \n",
      " 4   rating          1573 non-null   float64\n",
      " 5   rating_count    1573 non-null   int64  \n",
      " 6   NiceRating      1573 non-null   int64  \n",
      " 7   precio_i        1573 non-null   int32  \n",
      " 8   rating_i        1573 non-null   int32  \n",
      " 9   ratingcount_i   1573 non-null   int32  \n",
      " 10  retail_price_i  1573 non-null   int32  \n",
      "dtypes: float64(2), int32(4), int64(5)\n",
      "memory usage: 110.7 KB\n"
     ]
    }
   ],
   "source": [
    "def comparacion():\n",
    "    NiceRating = []\n",
    "    BadRating = []\n",
    "\n",
    "    for cl in data[\"NiceRating\"]:\n",
    "        if cl==0:\n",
    "            BadRating.append(cl)\n",
    "        else:\n",
    "            NiceRating.append(cl)\n",
    "\n",
    "    xBars = ['Nice Rating: ' + str(len(NiceRating)), 'Bad Rating:  ' + str(len(BadRating))]        \n",
    "    ancho = 0.8\n",
    "    fig, ax = plt.subplots(figsize=(8,7))\n",
    "    index = np.arange(len(xBars))\n",
    "    plt.bar(index, [len(NiceRating), len(BadRating)], ancho, color='blue')\n",
    "    plt.ylabel('Cantidad', fontsize=15)\n",
    "    plt.xticks(index, xBars, fontsize=12, rotation=30)\n",
    "    plt.show()\n",
    "\n",
    "\n",
    "\n",
    "def tranforData(d):\n",
    "    d[\"precio_i\"] = d[\"price\"].astype(int)\n",
    "    d[\"rating_i\"] = d[\"rating\"].astype(int)\n",
    "    d[\"ratingcount_i\"] = d[\"rating_count\"].astype(int)\n",
    "    d[\"retail_price_i\"] = d[\"retail_price\"].astype(int)\n",
    "    return d\n",
    "\n",
    "data = tranforData(data)\n",
    "data.info()"
   ]
  },
  {
   "cell_type": "code",
   "execution_count": 28,
   "metadata": {},
   "outputs": [],
   "source": [
    "##graficas\n"
   ]
  },
  {
   "cell_type": "code",
   "execution_count": 29,
   "metadata": {},
   "outputs": [],
   "source": [
    "\n",
    "#comparacion()"
   ]
  },
  {
   "cell_type": "code",
   "execution_count": 30,
   "metadata": {},
   "outputs": [],
   "source": [
    "dataRate = data['NiceRating']\n",
    "dataRating = DataFrame(dataRate)\n",
    "dataRating.columns = ['NiceRating']\n",
    "#eliminamos las....\n",
    "data.drop(labels = ['precio_i','rating_i','ratingcount_i','retail_price_i','uses_ad_boosts',\n",
    "                    'rating','rating_count','NiceRating'], axis = 1, inplace = True)\n",
    "\n",
    "\n",
    "labelEncode = preprocessing.LabelEncoder()\n",
    "\n",
    "YArr = labelEncode.fit_transform(dataRate.values.ravel())\n",
    "#print((YArr))\n",
    "\n",
    "#data.drop(labels = ['NiceRating','rating_i',], axis = 1, inplace = True)\n",
    "\n",
    "dataFeat = DataFrame(data)\n",
    "\n",
    "#XArr = pd.get_dummies(dataFeat).values\n",
    "XArr = pd.get_dummies(dataFeat.astype(str)).values"
   ]
  },
  {
   "cell_type": "code",
   "execution_count": 31,
   "metadata": {},
   "outputs": [
    {
     "name": "stdout",
     "output_type": "stream",
     "text": [
      "EXE TIME: 0.317272424697876 seconds\n",
      "OPT THETAS:\n",
      " [ 1.50910918 -0.4031915  -2.9099099   1.56090587 -2.06249502 -1.19431044\n",
      "  1.23514191  0.70473714  2.72357627  1.23949392 -3.17784067  1.23949392\n",
      "  0.65962288 -0.94914339 -2.06249502  2.21733288 -0.595129    2.13537173\n",
      " -2.06249502 -1.13436204  0.14290515 -0.18062788  0.6163107   1.60046285\n",
      "  0.67165209 -0.0585819   1.83767498 -0.49969648 -0.01412898 -0.58471623\n",
      " -0.44129831 -1.27979165  2.02006378 -0.29402489  0.89884761  0.03014119\n",
      " -2.36346527  1.13034312  1.39517265 -2.63846084 -1.31792001 -2.19397413\n",
      "  2.07641767  1.55264899 -0.97822924 -0.4702363   0.71170448  1.28681339\n",
      " -2.86393571  2.5653525   0.32578624 -0.08765693 -0.15630033 -0.80465275\n",
      " -0.06704031  2.60656169 -1.02666081 -4.01660742 -1.09616907  1.46954091\n",
      "  1.69232588  0.58092128 -2.64514574 -1.47261689  0.74282076 -0.56764744\n",
      " -0.81539366 -1.47261689 -0.62603413 -0.72469426 -0.23983273 -2.86374582\n",
      " -2.1249053   1.80019544  2.19613645  0.0145612   2.14720917  0.56034606\n",
      "  1.38063569 -0.07968162  0.06349659 -1.40455709  1.69327825  1.83505839\n",
      "  2.01399461  2.49619389  2.26355493 -3.08107468  1.41384909  1.75450071\n",
      "  1.87394125  1.87551845  0.16906688  0.7903292   1.72022441  0.28704101\n",
      "  0.28899824 -0.48469713 -3.89819493  1.55498723  0.23514324 -2.01135726\n",
      "  2.06491389 -1.80954966  0.14623286 -1.3799305   0.49120376  0.18558244\n",
      " -0.25845625 -0.9634514   0.3804534  -2.27072164  1.72696679  1.72173043\n",
      "  0.32745639 -3.32697055  2.28961506  2.08091274  1.05437202 -1.30795497\n",
      " -3.33696289 -2.1249053   1.46367924 -1.84135578 -0.15732708 -0.16823485\n",
      "  0.39754401  0.5740463  -1.4442423  -0.17432716 -1.56866994  1.01580236\n",
      "  2.3967521  -2.67525993  1.17706942  1.86790715  0.62124872 -0.08731355\n",
      "  1.01580236 -0.20286711  1.26286053  1.38987054 -0.59532132  1.78749663\n",
      " -0.71808517  1.06055127  0.78908246 -2.36423726  0.35695663 -2.26729628\n",
      " -2.01717929  0.35477871  0.64014217  1.72959006  1.00570022  1.68566027\n",
      " -0.77325772  1.72503748 -1.35458684 -0.25878354 -1.5686673  -1.64650872\n",
      "  0.43767696  2.06313091  0.34414566  0.64690678 -2.0687517  -0.82238047\n",
      "  0.0841474   1.83052984  0.60480219 -0.89898167 -2.23791168  1.42457377\n",
      " -0.17352941  0.31337947 -1.17223059  1.34549054  0.07417884 -1.55825851\n",
      "  2.10832578 -0.65712099 -0.91540518  0.27301781  0.89461178 -1.26878693\n",
      "  0.72451744 -0.77500607 -1.1151193  -0.36263682 -0.2164577  -0.72592685\n",
      "  1.27857742  2.31824265  2.61359895  0.9290385   0.32278972 -0.17924197\n",
      " -0.31273554  2.21597231 -0.95403708  0.86078674 -0.62031842 -2.28383597\n",
      " -0.65256418  0.13394553  0.28529912 -2.74825203 -2.75575756  2.45556149\n",
      "  1.19877334 -0.79681064 -0.76201634 -1.55712769 -0.7038237  -2.30908393\n",
      "  1.94782895 -0.14540421 -0.44109128 -0.0966866   0.39707413 -0.67787252\n",
      " -0.73958378  0.21464346  1.57085476  1.01670047 -0.34156245 -1.44864316\n",
      "  0.23222153 -1.02595342  1.88902047  0.78908249  2.34358453 -0.54594157\n",
      " -1.44155924 -1.01682206 -0.16660504  1.1307889  -1.11040009 -0.65781314\n",
      "  1.10208985 -0.28276061 -0.83562932 -0.22389652  0.73903552  0.78689287\n",
      "  1.70240426]\n",
      "[72.53655435  1.          2.          3.        ]\n",
      "PREDICTIONS RESULT: 72.53655435473617\n"
     ]
    }
   ],
   "source": [
    "#Regresion Logistica:\n",
    "m = len(YArr)\n",
    "\n",
    "def sigmoide(value):\n",
    "    s = 1/(1+np.exp(-value))\n",
    "    return s\n",
    "\n",
    "#FUNCIÓN DE COSTE\n",
    "def coste(O, X, Y):\n",
    "    H = sigmoide(np.dot(X,O))\n",
    "    logH = np.log(H)\n",
    "    logHT = logH.T\n",
    "    logAux = np.log((1- H))\n",
    "    logAuxT = logAux.T\n",
    "    YT = Y.T\n",
    "    suma = (-1/m)* (np.dot(YT, logH) + np.dot((1-YT), logAux))\n",
    "    return suma\n",
    "    \n",
    "#FUNCIÓN DE GRADIENTE\n",
    "def gradiente(O, X, Y):\n",
    "    return (X.T.dot((sigmoide(X.dot(O))) - Y))/m\n",
    "\n",
    "#FUNCIÓN DE COSTE REGULARIZADA (lambda)\n",
    "def coste2(O, X, Y, lam):\n",
    "    sol = (coste(O, X, Y) + (lam/(2*m))*(O**2).sum())\n",
    "    return sol\n",
    "   \n",
    "#FUNCIÓN DE GRADIENTE REGULARIZADA (lambda)\n",
    "def gradiente2(O, X, Y, lam):\n",
    "    AuxO = np.hstack([np.zeros([1]), O[1:,]])\n",
    "    return (((X.T.dot(sigmoide(X.dot(O))-Y))/m) + (lam/m)*O)\n",
    "\n",
    "X = XArr.copy()\n",
    "X = np.insert(X, 0, 1, axis = 1)\n",
    "\n",
    "start = time.time()\n",
    "thetas = np.ones(len(X[0]))\n",
    "result = opt.fmin_tnc(func = coste2, x0 = thetas, fprime = gradiente2, args = (X, YArr, 0.1))\n",
    "thetas_opt = result[0]\n",
    "end = time.time()\n",
    "print(\"EXE TIME:\", end - start, \"seconds\")\n",
    "print(\"OPT THETAS:\\n\", thetas_opt)\n",
    "\n",
    "\n",
    "#Evaluación de los resultados obtenidos en las predicciones con las thetas óptimas\n",
    "def evalua(thetas, X, y):\n",
    "    thetasMat = np.matrix(thetas)   \n",
    "    z = np.dot(thetasMat,X.transpose())\n",
    "    resultados = sigmoide(z)\n",
    "    resultados[resultados >= 0.5] = 1\n",
    "    resultados[resultados < 0.5] = 0\n",
    "    admitidosPred = sum(np.where(resultados == y)).shape[0]\n",
    "    return (admitidosPred / len(y)) * 100\n",
    "\n",
    "\n",
    "prediction = evalua(thetas_opt, X, YArr)\n",
    "models_times[0] = (prediction)\n",
    "print(models_times)\n",
    "print(\"PREDICTIONS RESULT:\",prediction)\n"
   ]
  },
  {
   "cell_type": "code",
   "execution_count": 32,
   "metadata": {},
   "outputs": [],
   "source": [
    "##Red Neuronales\n",
    "lambda_ = 1\n",
    "def addColumn(mat):\n",
    "    return np.hstack([np.ones([np.shape(mat)[0],1]), mat])\n",
    "\n",
    "def sig_derivated(value):\n",
    "    return sigmoide(value) * (1- sigmoide(value))\n",
    "\n",
    "def random_weights(_in, _out):\n",
    "    weights = np.random.uniform(-0.12,0.12, (_out, 1+_in))\n",
    "    return weights\n",
    "\n",
    "def neuralCosteReg(_x, _y, a3, numTags, th1, th2):\n",
    "    m = np.shape(_x)[0]\n",
    "    aux1 = -_y*(np.log(a3))\n",
    "    aux2 = (1-_y) * (np.log(1-a3))\n",
    "    aux3 = aux1-aux2\n",
    "    aux4 = np.sum(th1**2) + np.sum(th2**2)\n",
    "    return (1/m)* np.sum(aux3) + (lambda_/(2*m)) * aux4\n"
   ]
  },
  {
   "cell_type": "code",
   "execution_count": 33,
   "metadata": {},
   "outputs": [],
   "source": [
    "def forward_prop(_x, th1, th2):\n",
    "    m = np.shape(_x)[0]\n",
    "    a1 = np.hstack([np.ones([m,1]), _x])\n",
    "    z2 = np.dot(a1, th1.T)\n",
    "    a2 = np.hstack([np.ones([m,1]), sigmoide(z2)])\n",
    "    z3 = np.dot(a2, th2.T)\n",
    "    h = sigmoide(z3)\n",
    "    return h, a1, z2, a2,z3\n",
    "\n",
    "def prop(a1, th1, th2):\n",
    "    a1 = addColumn(a1)\n",
    "    a2 = sigmoide(np.dot(a1, np.transpose(th1)))\n",
    "    a2 = addColumn(a2)\n",
    "    a3 = sigmoide(np.dot(a2, np.transpose(th2)))\n",
    "    return a1,a2,a3"
   ]
  },
  {
   "cell_type": "code",
   "execution_count": 34,
   "metadata": {},
   "outputs": [],
   "source": [
    "def back_prop(params_rn, num_entradas, num_ocultas, numTags, _x, _y, _reg):\n",
    "    thet1 = np.reshape(params_rn[:num_ocultas*(num_entradas + 1)],(num_ocultas, (num_entradas + 1)))\n",
    "    thet2 = np.reshape(params_rn[num_ocultas*(num_entradas + 1):],(numTags, (num_ocultas + 1)))\n",
    "    # Paso 1: Hacerse con las llaves\n",
    "    a1, a2, a3 = prop(_x, thet1, thet2)\n",
    "    m = np.shape(_x)[0]\n",
    "    delta3 = a3 - _y\n",
    "    # Paso 2: Ascender desde la oscuridad\n",
    "    delta_mat1 = np.zeros(np.shape(thet1))\n",
    "    delta_mat2 = np.zeros(np.shape(thet2))\n",
    "    aux1 = np.dot(delta3, thet2)\n",
    "    aux2 = addColumn(sig_derivated(np.dot(a1, np.transpose(thet1))))\n",
    "    delta2 = aux1*aux2\n",
    "    delta2 = np.delete(delta2, [0], axis = 1)\n",
    "    # Paso 3: Lluvia de fuego\n",
    "    delta_mat1 = delta_mat1+ np.transpose(np.dot(np.transpose(a1), delta2))\n",
    "    delta_mat2 = delta_mat2 + np.transpose(np.dot(np.transpose(a2), delta3))\n",
    "    # Paso 4: Ensartar a la bestia alada   LOS NUMEROS MASON, LOS NUMEROOOOOS\n",
    "    delta_mat1  = (1/m)*delta_mat1\n",
    "    delta_mat1[:, 1:] = delta_mat1[:, 1:] + (_reg/m)*thet1[:, 1:]\n",
    "\n",
    "    delta_mat2  = (1/m)*delta_mat2\n",
    "    delta_mat2[:, 1:] = delta_mat2[:, 1:] + (_reg/m)*thet2[:, 1:]\n",
    "    #Paso 5: Con puño de hierro\n",
    "    coste = neuralCosteReg(_x, _y,a3,  numTags, thet1,thet2)\n",
    "    gradient = np.concatenate((np.ravel(delta_mat1), np.ravel(delta_mat2)))\n",
    "    return coste, gradient\n"
   ]
  },
  {
   "cell_type": "code",
   "execution_count": 35,
   "metadata": {},
   "outputs": [
    {
     "name": "stdout",
     "output_type": "stream",
     "text": [
      "----------------------------------------------\n",
      "\n",
      "\n",
      " TRAINING EXECUTION TIME: 0.22169017791748047 seconds\n",
      "PREDICTION NEURAL_NETWORK: 62.49205340114431 %\n",
      "----------------------------------------------\n",
      "\n"
     ]
    }
   ],
   "source": [
    "def evaluateLearning(_y, _out):\n",
    "    checker = (_out >0.7)\n",
    "    count = np.size(np.where(checker[:, 0] == _y[:, 0]))\n",
    "    fin = count/np.shape(_y)[0]*100\n",
    "    return fin, checker\n",
    "def NeuralNet(_data):\n",
    "    _X = XArr.copy()\n",
    "    _y = YArr.copy()\n",
    "\n",
    "    _y = np.reshape(_y, (np.shape(_y)[0], 1))\n",
    "\n",
    "    num_entradas = np.shape(_X)[1]\n",
    "    num_ocultas = 25\n",
    "    numTags = 1\n",
    "\n",
    "    the1 = random_weights(num_entradas, num_ocultas)\n",
    "    the2 = random_weights(num_ocultas, numTags)\n",
    "\n",
    "    theta_vector = np.concatenate((np.ravel(the1), np.ravel(the2)))\n",
    "    start = time.time()\n",
    "    thetas = sciMin(fun = back_prop, x0 =theta_vector, args = (num_entradas, num_ocultas, numTags, _X, _y, lambda_),\n",
    "    method = 'TNC', jac = True, options = {'maxiter': 70}).x\n",
    "    end = time.time()\n",
    "\n",
    "    the1 = np.reshape(thetas[:num_ocultas*(num_entradas+1)], (num_ocultas, (num_entradas+1)))\n",
    "    the2 = np.reshape(thetas[num_ocultas* (num_entradas+1):], (numTags, (num_ocultas+1)))\n",
    "\n",
    "    a,c = evaluateLearning(_y, forward_prop(_X, the1, the2)[0])\n",
    "\n",
    "    print(\"----------------------------------------------\\n\")\n",
    "    print(\"\\n TRAINING EXECUTION TIME:\", end - start, \"seconds\")\n",
    "    \n",
    "    print(\"PREDICTION NEURAL_NETWORK: \" + str(a) + \" %\")\n",
    "    models_times[1] = a\n",
    "    print(\"----------------------------------------------\\n\")\n",
    "NeuralNet(data)"
   ]
  },
  {
   "cell_type": "code",
   "execution_count": 36,
   "metadata": {},
   "outputs": [],
   "source": [
    "#svm "
   ]
  },
  {
   "cell_type": "code",
   "execution_count": 37,
   "metadata": {},
   "outputs": [
    {
     "name": "stdout",
     "output_type": "stream",
     "text": [
      "\n",
      "TRAINING EXECUTION TIME: 0.16313982009887695 seconds\n",
      "\n",
      "PREDICTIONS SVM LINEAL 59.80769230769231\n"
     ]
    }
   ],
   "source": [
    "#lineal\n",
    "XSvm = XArr.copy()\n",
    "YSvm = YArr.copy()\n",
    "\n",
    "X_Train, X_test, Y_Train, Y_test = train_test_split(XSvm, YSvm, test_size=0.33, random_state=42)\n",
    "\n",
    "#SVM de tipo lineal\n",
    "Coef = 1.0\n",
    "svmLineal = svm.SVC(kernel='linear',C=Coef)\n",
    "\n",
    "#Entrenamiento de las \"redes\". Similar a buscar las thetas óptimas\n",
    "start = time.time()\n",
    "svmFitted = svmLineal.fit(X_Train, Y_Train)\n",
    "end = time.time()\n",
    "print(\"\\nTRAINING EXECUTION TIME:\", end - start, \"seconds\")\n",
    "#predecimos Y a partir de la x \"entrenada\"\n",
    "predictY = svmLineal.predict(X_test)\n",
    "\n",
    "def evalua(results, Y):\n",
    "    numAciertos = 0\n",
    "    for i in range(len(Y_test)):\n",
    "        if results[i] == Y[i]: numAciertos += 1\n",
    "    return (numAciertos/(len(Y_test)))*100\n",
    "\n",
    "success = evalua(predictY, Y_test)\n",
    "models_times[2] = success\n",
    "print(\"\\nPREDICTIONS SVM LINEAL\",success)"
   ]
  },
  {
   "cell_type": "code",
   "execution_count": 38,
   "metadata": {},
   "outputs": [
    {
     "name": "stdout",
     "output_type": "stream",
     "text": [
      "\n",
      "TRAINING EXECUTION TIME: 0.18015456199645996 seconds\n",
      "\n",
      "PREDICTIONS SVM GAUSS 66.53846153846153\n"
     ]
    }
   ],
   "source": [
    "#gausiano\n",
    "XSvmG = XArr.copy()\n",
    "YSvmG = YArr.copy()\n",
    "\n",
    "X_Train, X_test, Y_Train, Y_test = train_test_split(XSvmG, YSvmG, test_size=0.33, random_state=42)\n",
    "\n",
    "Coef=1\n",
    "sigma = 0.1\n",
    "svmGauss = svm.SVC(C = Coef, kernel = 'rbf', gamma = 1/(2*sigma **2))\n",
    "\n",
    "start = time.time()\n",
    "svmGaussFitted = svmGauss.fit(X_Train, Y_Train)\n",
    "end = time.time()\n",
    "print(\"\\nTRAINING EXECUTION TIME:\", end - start, \"seconds\")\n",
    "predictY = svmGauss.predict(X_test)\n",
    "\n",
    "def evalua(results, Y):\n",
    "    numAciertos = 0\n",
    "    for i in range(len(Y_test)):\n",
    "        if results[i] == Y[i]: numAciertos += 1\n",
    "    return (numAciertos/(len(Y_test)))*100\n",
    "\n",
    "success = evalua(predictY, Y_test)\n",
    "models_times[3] = success\n",
    "print(\"\\nPREDICTIONS SVM GAUSS\",success)"
   ]
  },
  {
   "cell_type": "code",
   "execution_count": 39,
   "metadata": {},
   "outputs": [
    {
     "data": {
      "image/png": "[encoded data removed]",
      "text/plain": [
       "<Figure size 432x720 with 1 Axes>"
      ]
     },
     "metadata": {
      "needs_background": "light"
     },
     "output_type": "display_data"
    }
   ],
   "source": [
    "#comparacion final\n",
    "xBars = ['Logistic Regression: ', \n",
    "         'Neural Networks: ' , \n",
    "         'SVM Lineal: ' , \n",
    "         'SVM Gaussian: ']        \n",
    "ancho = 0.8\n",
    "fig, ax = plt.subplots(figsize=(6,10))\n",
    "index = np.arange(len(xBars))\n",
    "plt.bar(index, [models_times[0], models_times[1], models_times[2], models_times[3]], ancho, color='#04B486')\n",
    "plt.xlabel('MACHINE LEARNING MODEL', fontsize=15)\n",
    "plt.ylabel('SUCCESS PERCENTAGE (%)', fontsize=15)\n",
    "plt.xticks(index, xBars, fontsize=8, rotation=30)\n",
    "plt.title('SUCCESS PERCENTAGE COMPARISON', fontsize=15)\n",
    "plt.ylim((0, 100))\n",
    "plt.show()"
   ]
  },
  {
   "cell_type": "code",
   "execution_count": null,
   "metadata": {},
   "outputs": [],
   "source": []
  },
  {
   "cell_type": "code",
   "execution_count": null,
   "metadata": {},
   "outputs": [],
   "source": []
  }
 ],
 "metadata": {
  "kernelspec": {
   "display_name": "Python 3",
   "language": "python",
   "name": "python3"
  },
  "language_info": {
   "codemirror_mode": {
    "name": "ipython",
    "version": 3
   },
   "file_extension": ".py",
   "mimetype": "text/x-python",
   "name": "python",
   "nbconvert_exporter": "python",
   "pygments_lexer": "ipython3",
   "version": "3.8.3"
  }
 },
 "nbformat": 4,
 "nbformat_minor": 4
}
