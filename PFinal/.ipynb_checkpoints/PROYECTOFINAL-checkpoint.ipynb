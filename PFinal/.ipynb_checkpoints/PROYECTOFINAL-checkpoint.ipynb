{
 "cells": [
  {
   "cell_type": "markdown",
   "metadata": {},
   "source": [
    "# Proyecto Final Aprendizaje Automatico"
   ]
  },
  {
   "cell_type": "markdown",
   "metadata": {},
   "source": [
    "## Prediccion de puntuacion de un producto en la aplicacion Wish"
   ]
  },
  {
   "cell_type": "markdown",
   "metadata": {},
   "source": [
    "Autores: Daniel López Acero y Antonio Luis Suarez Solis"
   ]
  },
  {
   "cell_type": "markdown",
   "metadata": {},
   "source": [
    "### ¿En que consite nuestro proyecto?"
   ]
  },
  {
   "cell_type": "markdown",
   "metadata": {},
   "source": [
    "El objetivo de nuestro proyecto es tratar de predecir si la nota que tendra un producto puesto en venta en la aplicacion Wish sera buena o mala, por medio de la aplicacion de distintas tecnicas de aprendizaje automatico aprendidas y utilizada durante el curso a una base de datos obtenia de Kaggle.com\n",
    "\n",
    "Bajo nuestro criterio, una buena calificación se encontraria por encima del 3.7 sobre 5, correspondiendo a un 7.5 aproximadamente sobre 10."
   ]
  },
  {
   "cell_type": "markdown",
   "metadata": {},
   "source": [
    "Dicha base de datos es esta: https://www.kaggle.com/jmmvutu/summer-products-and-sales-in-ecommerce-wish"
   ]
  },
  {
   "cell_type": "markdown",
   "metadata": {},
   "source": [
    "Antes de ponernos a trabjar, nuestro primer objetivo es realizar un analisis a la base de datos y realizar observaciones.\n",
    "Esta base de datos cuenta con muchisimos datos de los cuales utilizaremos los mas apropiados y adecuados para desempeñar nuestro objetivo"
   ]
  },
  {
   "cell_type": "markdown",
   "metadata": {},
   "source": [
    "### Datos:"
   ]
  },
  {
   "cell_type": "markdown",
   "metadata": {},
   "source": [
    "- Price (Precio del producto)\n",
    "- retail_price (Precio del producto en otras paginas webs)\n",
    "- units_sold  (Cantidad de productos vendidos)\n",
    "- uses_ad_boosts (Si el usuario ha utilizado un boost de publicidad o no)\n",
    "- rating  (Nota media del producto)\n",
    "- rating_count (Cantidad de valoraciones del producto)"
   ]
  },
  {
   "cell_type": "markdown",
   "metadata": {},
   "source": [
    "Vistos los datos que queremos utilizar comenzamos comparandolos, para ello lo que hicimos fue dividir los datos entre los que estan bien valorados y los que no lo estan"
   ]
  },
  {
   "cell_type": "markdown",
   "metadata": {},
   "source": [
    "### GRAFICAS COMPARATIVAS"
   ]
  },
  {
   "cell_type": "markdown",
   "metadata": {},
   "source": [
    "<img src=\"gcomparativaPrice.png\">\n",
    "<img src=\"gcomparativaretailPrice.png\">\n",
    "<img src=\"gcomparativaUnidadesVendidas.png\">\n",
    "<img src=\"gcomparativaboosts.png\">"
   ]
  },
  {
   "cell_type": "markdown",
   "metadata": {},
   "source": [
    "<img src=\"comparacion.png\">"
   ]
  },
  {
   "cell_type": "markdown",
   "metadata": {},
   "source": [
    "## Imports"
   ]
  },
  {
   "cell_type": "markdown",
   "metadata": {},
   "source": [
    "\n"
   ]
  },
  {
   "cell_type": "code",
   "execution_count": 32,
   "metadata": {},
   "outputs": [],
   "source": [
    "import pandas as pd\n",
    "from pandas import DataFrame\n",
    "import time\n",
    "import numpy as np\n",
    "import random\n",
    "import matplotlib.pyplot as plt\n",
    "import scipy.optimize as opt\n",
    "from sklearn import metrics\n",
    "from sklearn import preprocessing\n",
    "from scipy.optimize import minimize as sciMin\n",
    "from scipy.io import loadmat\n",
    "from sklearn.preprocessing import PolynomialFeatures\n",
    "from sklearn.model_selection import train_test_split\n",
    "from sklearn import svm"
   ]
  },
  {
   "cell_type": "markdown",
   "metadata": {},
   "source": [
    "## Lectura de datos y descarte de campos innecesarios"
   ]
  },
  {
   "cell_type": "code",
   "execution_count": 33,
   "metadata": {},
   "outputs": [],
   "source": [
    "data = pd.read_csv('summer-products-with-rating-and-performance_2020-08.csv')\n",
    "data.drop(labels = [\"title\",\"title_orig\",\"currency_buyer\", 'rating_five_count', 'rating_four_count', 'rating_three_count', 'rating_two_count', 'rating_one_count', 'badges_count', 'badge_local_product', 'badge_product_quality', 'badge_fast_shipping', 'tags', 'product_color', 'product_variation_size_id', 'product_variation_inventory', 'shipping_option_name', 'shipping_option_price', 'shipping_is_express', 'shipping_option_price', 'countries_shipped_to', 'inventory_total', 'has_urgency_banner', 'urgency_text', 'origin_country', 'merchant_title', 'merchant_name', 'merchant_info_subtitle', 'merchant_rating_count', 'merchant_rating', 'merchant_id', 'merchant_has_profile_picture', 'merchant_profile_picture', 'product_url', 'product_picture', 'product_id', 'theme', 'crawl_month'], axis = 1, inplace = True)\n",
    "\n",
    "def rating_bynary_trans(rate): # Funcion que establece la división entre una buena puntuacion y una mala.\n",
    "    if rate < 3.7:\n",
    "        return 0\n",
    "    else:\n",
    "        return 1\n",
    "    \n",
    "data[\"NiceRating\"] = data[\"rating\"].map(rating_bynary_trans)\n",
    "data = data.reset_index(drop=True)\n",
    "\n",
    "models_times = np.arange(4, dtype = float)\n",
    "\n",
    "\n",
    "i = 0"
   ]
  },
  {
   "cell_type": "markdown",
   "metadata": {},
   "source": [
    "## Funciones útiles para el tratamiento de datos"
   ]
  },
  {
   "cell_type": "code",
   "execution_count": 34,
   "metadata": {},
   "outputs": [],
   "source": [
    "\n",
    "def graficaComparativa(campo,titulo,ticklabels): # Función que crea una gráfica de 'x' campo y la muestra.\n",
    "    global i\n",
    "    cantidades = data[campo].value_counts()\n",
    "    lables = cantidades.axes[0].tolist()\n",
    "    index = np.arange(len(lables))\n",
    "\n",
    "    badRating = []\n",
    "    niceRating = []\n",
    "\n",
    "    for shapes in lables:\n",
    "        quantity = len(data[data[campo] == shapes].index)\n",
    "        highRated = len(data[(data[campo] == shapes) & (data['NiceRating'] == 1)].index)\n",
    "        niceRating.append(highRated)\n",
    "        badRating.append(quantity-highRated)\n",
    "\n",
    "    ancho = 0.4\n",
    "    fig, ax = plt.subplots(figsize=(20,7))\n",
    "    ax.bar(index, niceRating, ancho, color='#04B486')\n",
    "    ax.bar(index+ancho, badRating, ancho, color='#C74B08')\n",
    "    ax.set_xlabel(campo, fontsize = 15)\n",
    "    ax.set_ylabel('Productos',fontsize=15)  \n",
    "    ax.set_title(titulo,fontsize=15)\n",
    "    ax.set_xticks(index+ancho/2)\n",
    "    ax.set_xticklabels(ticklabels, fontsize=10)\n",
    "    ax.legend(['High Rated', 'Not High Rated'])\n",
    "    i = i + 1\n",
    "    plt.show()"
   ]
  },
  {
   "cell_type": "code",
   "execution_count": 35,
   "metadata": {},
   "outputs": [
    {
     "name": "stdout",
     "output_type": "stream",
     "text": [
      "<class 'pandas.core.frame.DataFrame'>\n",
      "RangeIndex: 1573 entries, 0 to 1572\n",
      "Data columns (total 11 columns):\n",
      " #   Column          Non-Null Count  Dtype  \n",
      "---  ------          --------------  -----  \n",
      " 0   price           1573 non-null   float64\n",
      " 1   retail_price    1573 non-null   int64  \n",
      " 2   units_sold      1573 non-null   int64  \n",
      " 3   uses_ad_boosts  1573 non-null   int64  \n",
      " 4   rating          1573 non-null   float64\n",
      " 5   rating_count    1573 non-null   int64  \n",
      " 6   NiceRating      1573 non-null   int64  \n",
      " 7   precio_i        1573 non-null   int32  \n",
      " 8   rating_i        1573 non-null   int32  \n",
      " 9   ratingcount_i   1573 non-null   int32  \n",
      " 10  retail_price_i  1573 non-null   int32  \n",
      "dtypes: float64(2), int32(4), int64(5)\n",
      "memory usage: 110.7 KB\n"
     ]
    }
   ],
   "source": [
    "def comparacion(): # Funcion que crea una gráfica comparando las puntuaciones respecto a si son buenas o no.\n",
    "    NiceRating = []\n",
    "    BadRating = []\n",
    "\n",
    "    for cl in data[\"NiceRating\"]:\n",
    "        if cl==0:\n",
    "            BadRating.append(cl)\n",
    "        else:\n",
    "            NiceRating.append(cl)\n",
    "\n",
    "    xBars = ['Nice Rating: ' + str(len(NiceRating)), 'Bad Rating:  ' + str(len(BadRating))]        \n",
    "    ancho = 0.8\n",
    "    fig, ax = plt.subplots(figsize=(8,7))\n",
    "    index = np.arange(len(xBars))\n",
    "    plt.bar(index, [len(NiceRating), len(BadRating)], ancho, color='blue')\n",
    "    plt.ylabel('Cantidad', fontsize=15)\n",
    "    plt.xticks(index, xBars, fontsize=12, rotation=30)\n",
    "    plt.show()\n",
    "\n",
    "\n",
    "\n",
    "def tranforData(d): # Funcion que redondea los valores de ciertos campos a números enteros.\n",
    "    d[\"precio_i\"] = d[\"price\"].astype(int)\n",
    "    d[\"rating_i\"] = d[\"rating\"].astype(int)\n",
    "    d[\"ratingcount_i\"] = d[\"rating_count\"].astype(int)\n",
    "    d[\"retail_price_i\"] = d[\"retail_price\"].astype(int)\n",
    "    return d\n",
    "\n",
    "data = tranforData(data)\n",
    "data.info()"
   ]
  },
  {
   "cell_type": "code",
   "execution_count": 36,
   "metadata": {},
   "outputs": [],
   "source": [
    "# Llamada a las graficas mostradas anteriormente para su salida en ejecución.\n",
    "\n",
    "\n",
    "\n",
    "\n",
    "#graficaComparativa('precio_i', 'Diferencia de Precio',data[\"precio_i\"].unique())\n",
    "#graficaComparativa('retail_price', 'Diferencia de Precio de Retail',data[\"retail_price\"].unique())\n",
    "#graficaComparativa('units_sold', 'Diferencia de Ventas',data[\"units_sold\"].unique())\n",
    "#graficaComparativa('ratingcount_i', 'Diferencia de numero de ratings',data[\"ratingcount_i\"])\n",
    "#graficaComparativa('uses_ad_boosts', 'Uso de boosts',data[\"uses_ad_boosts\"])"
   ]
  },
  {
   "cell_type": "code",
   "execution_count": 37,
   "metadata": {},
   "outputs": [],
   "source": [
    "# LLamada a comparación para mostrar la grafica durante la ejecución\n",
    "\n",
    "#comparacion()"
   ]
  },
  {
   "cell_type": "markdown",
   "metadata": {},
   "source": [
    "### Preparación de datos para tratamiento"
   ]
  },
  {
   "cell_type": "code",
   "execution_count": 38,
   "metadata": {},
   "outputs": [],
   "source": [
    "dataRate = data['NiceRating']\n",
    "dataRating = DataFrame(dataRate)\n",
    "dataRating.columns = ['NiceRating']\n",
    "#eliminamos las....\n",
    "data.drop(labels = ['precio_i','rating_i','ratingcount_i','retail_price_i','uses_ad_boosts',\n",
    "                    'rating','rating_count','NiceRating'], axis = 1, inplace = True)\n",
    "\n",
    "\n",
    "labelEncode = preprocessing.LabelEncoder()\n",
    "\n",
    "YArr = labelEncode.fit_transform(dataRate.values.ravel())\n",
    "#print((YArr))\n",
    "\n",
    "#data.drop(labels = ['NiceRating','rating_i',], axis = 1, inplace = True)\n",
    "\n",
    "dataFeat = DataFrame(data)\n",
    "\n",
    "#XArr = pd.get_dummies(dataFeat).values\n",
    "XArr = pd.get_dummies(dataFeat.astype(str)).values"
   ]
  },
  {
   "cell_type": "markdown",
   "metadata": {},
   "source": [
    "### Regresión logística"
   ]
  },
  {
   "cell_type": "code",
   "execution_count": 39,
   "metadata": {},
   "outputs": [
    {
     "name": "stdout",
     "output_type": "stream",
     "text": [
      "EXE TIME: 1.4590749740600586 seconds\n",
      "OPT THETAS:\n",
      " [ 1.50981381 -0.40254397 -2.90873237  1.5619196  -2.06145513 -1.19288781\n",
      "  1.23550966  0.70531971  2.72446686  1.24098618 -3.17774423  1.24098618\n",
      "  0.66031073 -0.94761631 -2.06145513  2.2179489  -0.59406783  2.13569302\n",
      " -2.06145513 -1.13324254  0.14348762 -0.17967897  0.61711742  1.6014568\n",
      "  0.67244962 -0.05788682  1.83811698 -0.49914241 -0.01364691 -0.58376136\n",
      " -0.44128297 -1.27944777  2.02039435 -0.29411776  0.89820758  0.03053103\n",
      " -2.36346953  1.13063379  1.39530149 -2.63844026 -1.3177004  -2.19405054\n",
      "  2.07666513  1.55256653 -0.97772668 -0.46951678  0.71308237  1.28700871\n",
      " -2.86367779  2.56559448  0.32890033 -0.08701279 -0.15588168 -0.80439066\n",
      " -0.06655869  2.60617893 -1.02561654 -4.016718   -1.09552321  1.46993219\n",
      "  1.69268907  0.58134547 -2.64509262 -1.472985    0.74279623 -0.56724612\n",
      " -0.81544157 -1.472985   -0.62507327 -0.72452566 -0.2396794  -2.86329798\n",
      " -2.12409205  1.79948334  2.19583243  0.01468804  2.14750478  0.56088363\n",
      "  1.3805279  -0.07898288  0.06346918 -1.40429118  1.69260841  1.83537636\n",
      "  2.01415792  2.49639891  2.26394328 -3.08066206  1.41435727  1.75496039\n",
      "  1.87422334  1.87605201  0.16975026  0.79070483  1.72044683  0.28806983\n",
      "  0.28986555 -0.48367406 -3.89831989  1.55514487  0.23618943 -2.01156591\n",
      "  2.06536848 -1.8092418   0.14736355 -1.37886849  0.49180628  0.18646302\n",
      " -0.25805698 -0.96272883  0.38115561 -2.27050643  1.7271508   1.72275277\n",
      "  0.32854351 -3.32622062  2.29028427  2.08158878  1.05499449 -1.30684786\n",
      " -3.33637746 -2.12409205  1.46400574 -1.84130739 -0.15671974 -0.16779775\n",
      "  0.39811508  0.57461727 -1.44330633 -0.17328914 -1.5683287   1.0161145\n",
      "  2.39737815 -2.67482675  1.17773817  1.86854809  0.62145089 -0.08634329\n",
      "  1.0161145  -0.20222768  1.26359523  1.39058986 -0.594871    1.78759365\n",
      " -0.71743872  1.06125751  0.78915045 -2.36378394  0.35789743 -2.26655782\n",
      " -2.0164342   0.35604616  0.64115086  1.73027486  1.006465    1.68630898\n",
      " -0.77227347  1.72579091 -1.35344746 -0.2577292  -1.56777687 -1.64611663\n",
      "  0.43867667  2.0638834   0.34502059  0.64734256 -2.06760123 -0.82130116\n",
      "  0.08515608  1.8304347   0.60583953 -0.89816041 -2.23715712  1.42523653\n",
      " -0.17248512  0.31438959 -1.17138763  1.34597832  0.07535445 -1.55735395\n",
      "  2.10899686 -0.65626403 -0.91453944  0.27412964  0.89537431 -1.26808482\n",
      "  0.72558692 -0.77392106 -1.11529912 -0.36188132 -0.21547465 -0.72490144\n",
      "  1.27908143  2.31887965  2.61454355  0.93015002  0.32321216 -0.1780877\n",
      " -0.31193963  2.21630508 -0.95342807  0.86082042 -0.61949931 -2.28307868\n",
      " -0.6517167   0.13493617  0.2864052  -2.74717848 -2.75530854  2.45656974\n",
      "  1.19942254 -0.79616226 -0.76128283 -1.55659641 -0.70282166 -2.30860556\n",
      "  1.94846053 -0.14446506 -0.44018678 -0.09564258  0.39801604 -0.67686784\n",
      " -0.73862347  0.21550756  1.57124491  1.01703805 -0.34074752 -1.44788926\n",
      "  0.23311557 -1.02525395  1.88950499  0.78915047  2.34227842 -0.54813263\n",
      " -1.4439294  -1.01920456 -0.16881382  1.12875081 -1.11264753 -0.66012117\n",
      "  1.10075286 -0.28502229 -0.83806106 -0.22641441  0.73829177  0.78607362\n",
      "  1.701287  ]\n",
      "[72.53655435  1.          2.          3.        ]\n",
      "PREDICTIONS RESULT: 72.53655435473617\n"
     ]
    }
   ],
   "source": [
    "#Regresion Logistica:\n",
    "m = len(YArr)\n",
    "\n",
    "def sigmoide(value):\n",
    "    s = 1/(1+np.exp(-value))\n",
    "    return s\n",
    "\n",
    "#FUNCIÓN DE COSTE\n",
    "def coste(O, X, Y):\n",
    "    H = sigmoide(np.dot(X,O))\n",
    "    logH = np.log(H)\n",
    "    logHT = logH.T\n",
    "    logAux = np.log((1- H))\n",
    "    logAuxT = logAux.T\n",
    "    YT = Y.T\n",
    "    suma = (-1/m)* (np.dot(YT, logH) + np.dot((1-YT), logAux))\n",
    "    return suma\n",
    "    \n",
    "#FUNCIÓN DE GRADIENTE\n",
    "def gradiente(O, X, Y):\n",
    "    return (X.T.dot((sigmoide(X.dot(O))) - Y))/m\n",
    "\n",
    "#FUNCIÓN DE COSTE REGULARIZADA (lambda)\n",
    "def coste2(O, X, Y, lam):\n",
    "    sol = (coste(O, X, Y) + (lam/(2*m))*(O**2).sum())\n",
    "    return sol\n",
    "   \n",
    "#FUNCIÓN DE GRADIENTE REGULARIZADA (lambda)\n",
    "def gradiente2(O, X, Y, lam):\n",
    "    AuxO = np.hstack([np.zeros([1]), O[1:,]])\n",
    "    return (((X.T.dot(sigmoide(X.dot(O))-Y))/m) + (lam/m)*O)\n",
    "\n",
    "X = XArr.copy()\n",
    "X = np.insert(X, 0, 1, axis = 1)\n",
    "\n",
    "\n",
    "#Utilizando las funciones descritas encima y cronometrando el tiempo para la eficiencia, llamamos a fmin_tnc con la funcion\n",
    "# de gradiente regularizada para obtener las thetas optimas. \n",
    "\n",
    "start = time.time()\n",
    "thetas = np.ones(len(X[0]))\n",
    "result = opt.fmin_tnc(func = coste2, x0 = thetas, fprime = gradiente2, args = (X, YArr, 0.1))\n",
    "thetas_opt = result[0]\n",
    "end = time.time()\n",
    "print(\"EXE TIME:\", end - start, \"seconds\")\n",
    "print(\"OPT THETAS:\\n\", thetas_opt)\n",
    "\n",
    "\n",
    "#Evaluación de los resultados obtenidos en las predicciones con las thetas óptimas\n",
    "def evalua(thetas, X, y):\n",
    "    thetasMat = np.matrix(thetas)   \n",
    "    z = np.dot(thetasMat,X.transpose())\n",
    "    resultados = sigmoide(z)\n",
    "    resultados[resultados >= 0.5] = 1\n",
    "    resultados[resultados < 0.5] = 0\n",
    "    admitidosPred = sum(np.where(resultados == y)).shape[0]\n",
    "    return (admitidosPred / len(y)) * 100\n",
    "\n",
    "\n",
    "prediction = evalua(thetas_opt, X, YArr)\n",
    "models_times[0] = (prediction)\n",
    "print(models_times)\n",
    "print(\"PREDICTIONS RESULT:\",prediction)\n"
   ]
  },
  {
   "cell_type": "markdown",
   "metadata": {},
   "source": [
    "### Redes Neuronales"
   ]
  },
  {
   "cell_type": "code",
   "execution_count": 40,
   "metadata": {},
   "outputs": [],
   "source": [
    "lambda_ = 1\n",
    "def addColumn(mat):\n",
    "    return np.hstack([np.ones([np.shape(mat)[0],1]), mat])\n",
    "\n",
    "def sig_derivated(value):\n",
    "    return sigmoide(value) * (1- sigmoide(value))\n",
    "\n",
    "def random_weights(_in, _out):\n",
    "    weights = np.random.uniform(-0.12,0.12, (_out, 1+_in))\n",
    "    return weights\n",
    "\n",
    "def neuralCosteReg(_x, _y, a3, numTags, th1, th2):\n",
    "    m = np.shape(_x)[0]\n",
    "    aux1 = -_y*(np.log(a3))\n",
    "    aux2 = (1-_y) * (np.log(1-a3))\n",
    "    aux3 = aux1-aux2\n",
    "    aux4 = np.sum(th1**2) + np.sum(th2**2)\n",
    "    return (1/m)* np.sum(aux3) + (lambda_/(2*m)) * aux4\n"
   ]
  },
  {
   "cell_type": "code",
   "execution_count": 41,
   "metadata": {},
   "outputs": [],
   "source": [
    "def forward_prop(_x, th1, th2): #Funcion para el calculo de h = h(subtheta) (x(i)).\n",
    "    m = np.shape(_x)[0]\n",
    "    a1 = np.hstack([np.ones([m,1]), _x])\n",
    "    z2 = np.dot(a1, th1.T)\n",
    "    a2 = np.hstack([np.ones([m,1]), sigmoide(z2)])\n",
    "    z3 = np.dot(a2, th2.T)\n",
    "    h = sigmoide(z3)\n",
    "    return h, a1, z2, a2,z3\n",
    "\n",
    "def prop(a1, th1, th2):\n",
    "    a1 = addColumn(a1)\n",
    "    a2 = sigmoide(np.dot(a1, np.transpose(th1)))\n",
    "    a2 = addColumn(a2)\n",
    "    a3 = sigmoide(np.dot(a2, np.transpose(th2)))\n",
    "    return a1,a2,a3"
   ]
  },
  {
   "cell_type": "code",
   "execution_count": 42,
   "metadata": {},
   "outputs": [],
   "source": [
    "def back_prop(params_rn, num_entradas, num_ocultas, numTags, _x, _y, _reg): #Calculo del gradiente de la funcion de coste.\n",
    "    thet1 = np.reshape(params_rn[:num_ocultas*(num_entradas + 1)],(num_ocultas, (num_entradas + 1)))\n",
    "    thet2 = np.reshape(params_rn[num_ocultas*(num_entradas + 1):],(numTags, (num_ocultas + 1)))\n",
    "\n",
    "    a1, a2, a3 = prop(_x, thet1, thet2)\n",
    "    m = np.shape(_x)[0]\n",
    "    delta3 = a3 - _y\n",
    "\n",
    "    delta_mat1 = np.zeros(np.shape(thet1))\n",
    "    delta_mat2 = np.zeros(np.shape(thet2))\n",
    "    aux1 = np.dot(delta3, thet2)\n",
    "    aux2 = addColumn(sig_derivated(np.dot(a1, np.transpose(thet1))))\n",
    "    delta2 = aux1*aux2\n",
    "    delta2 = np.delete(delta2, [0], axis = 1)\n",
    "\n",
    "    delta_mat1 = delta_mat1+ np.transpose(np.dot(np.transpose(a1), delta2))\n",
    "    delta_mat2 = delta_mat2 + np.transpose(np.dot(np.transpose(a2), delta3))\n",
    "\n",
    "    delta_mat1  = (1/m)*delta_mat1\n",
    "    delta_mat1[:, 1:] = delta_mat1[:, 1:] + (_reg/m)*thet1[:, 1:]\n",
    "\n",
    "    delta_mat2  = (1/m)*delta_mat2\n",
    "    delta_mat2[:, 1:] = delta_mat2[:, 1:] + (_reg/m)*thet2[:, 1:]\n",
    "    coste = neuralCosteReg(_x, _y,a3,  numTags, thet1,thet2)\n",
    "    gradient = np.concatenate((np.ravel(delta_mat1), np.ravel(delta_mat2)))\n",
    "    return coste, gradient\n"
   ]
  },
  {
   "cell_type": "code",
   "execution_count": 43,
   "metadata": {},
   "outputs": [
    {
     "name": "stdout",
     "output_type": "stream",
     "text": [
      "----------------------------------------------\n",
      "\n",
      "\n",
      " TRAINING EXECUTION TIME: 1.0976526737213135 seconds\n",
      "PREDICTION NEURAL_NETWORK: 64.52638270820088 %\n",
      "----------------------------------------------\n",
      "\n"
     ]
    }
   ],
   "source": [
    "def evaluateLearning(_y, _out): #Calculo de aciertos\n",
    "    checker = (_out >0.7)\n",
    "    count = np.size(np.where(checker[:, 0] == _y[:, 0]))\n",
    "    fin = count/np.shape(_y)[0]*100\n",
    "    return fin, checker\n",
    "def NeuralNet(_data): #Función principal para llamar a la red neuronal.\n",
    "    _X = XArr.copy()\n",
    "    _y = YArr.copy()\n",
    "\n",
    "    _y = np.reshape(_y, (np.shape(_y)[0], 1))\n",
    "\n",
    "    num_entradas = np.shape(_X)[1]\n",
    "    num_ocultas = 25\n",
    "    numTags = 1\n",
    "\n",
    "    the1 = random_weights(num_entradas, num_ocultas)\n",
    "    the2 = random_weights(num_ocultas, numTags)\n",
    "\n",
    "    theta_vector = np.concatenate((np.ravel(the1), np.ravel(the2)))\n",
    "    start = time.time()\n",
    "    thetas = sciMin(fun = back_prop, x0 =theta_vector, args = (num_entradas, num_ocultas, numTags, _X, _y, lambda_),\n",
    "    method = 'TNC', jac = True, options = {'maxiter': 70}).x\n",
    "    end = time.time()\n",
    "\n",
    "    the1 = np.reshape(thetas[:num_ocultas*(num_entradas+1)], (num_ocultas, (num_entradas+1)))\n",
    "    the2 = np.reshape(thetas[num_ocultas* (num_entradas+1):], (numTags, (num_ocultas+1)))\n",
    "\n",
    "    a,c = evaluateLearning(_y, forward_prop(_X, the1, the2)[0])\n",
    "\n",
    "    print(\"----------------------------------------------\\n\")\n",
    "    print(\"\\n TRAINING EXECUTION TIME:\", end - start, \"seconds\")\n",
    "    \n",
    "    print(\"PREDICTION NEURAL_NETWORK: \" + str(a) + \" %\")\n",
    "    models_times[1] = a\n",
    "    print(\"----------------------------------------------\\n\")\n",
    "NeuralNet(data)"
   ]
  },
  {
   "cell_type": "markdown",
   "metadata": {},
   "source": [
    "### SVM"
   ]
  },
  {
   "cell_type": "code",
   "execution_count": 47,
   "metadata": {},
   "outputs": [
    {
     "name": "stdout",
     "output_type": "stream",
     "text": [
      "\n",
      "TRAINING EXECUTION TIME: 0.7210719585418701 seconds\n",
      "\n",
      "PREDICTIONS SVM LINEAL 59.80769230769231\n"
     ]
    }
   ],
   "source": [
    "#lineal\n",
    "XSvm = XArr.copy()\n",
    "YSvm = YArr.copy()\n",
    "\n",
    "X_Train, X_test, Y_Train, Y_test = train_test_split(XSvm, YSvm, test_size=0.33, random_state=42)\n",
    "\n",
    "#SVM de tipo lineal\n",
    "Coef = 1.0\n",
    "svmLineal = svm.SVC(kernel='linear',C=Coef)\n",
    "\n",
    "#Entrenamiento de las \"redes\". Similar a buscar las thetas óptimas\n",
    "start = time.time()\n",
    "svmFitted = svmLineal.fit(X_Train, Y_Train)\n",
    "end = time.time()\n",
    "print(\"\\nTRAINING EXECUTION TIME:\", end - start, \"seconds\")\n",
    "#predecimos Y a partir de la x \"entrenada\"\n",
    "predictY = svmLineal.predict(X_test)\n",
    "\n",
    "def evalua(results, Y):\n",
    "    numAciertos = 0\n",
    "    for i in range(len(Y_test)):\n",
    "        if results[i] == Y[i]: numAciertos += 1\n",
    "    return (numAciertos/(len(Y_test)))*100\n",
    "\n",
    "success = evalua(predictY, Y_test)\n",
    "models_times[2] = success\n",
    "print(\"\\nPREDICTIONS SVM LINEAL\",success)"
   ]
  },
  {
   "cell_type": "code",
   "execution_count": 51,
   "metadata": {},
   "outputs": [
    {
     "name": "stdout",
     "output_type": "stream",
     "text": [
      "\n",
      "TRAINING EXECUTION TIME: 0.8068490028381348 seconds\n",
      "\n",
      "PREDICTIONS SVM GAUSS 66.53846153846153\n"
     ]
    }
   ],
   "source": [
    "#gausiano\n",
    "XSvmG = XArr.copy()\n",
    "YSvmG = YArr.copy()\n",
    "\n",
    "X_Train, X_test, Y_Train, Y_test = train_test_split(XSvmG, YSvmG, test_size=0.33, random_state=42)\n",
    "\n",
    "Coef=1\n",
    "sigma = 0.1\n",
    "svmGauss = svm.SVC(C = Coef, kernel = 'rbf', gamma = 1/(2*sigma **2))\n",
    "\n",
    "start = time.time()\n",
    "svmGaussFitted = svmGauss.fit(X_Train, Y_Train)\n",
    "end = time.time()\n",
    "print(\"\\nTRAINING EXECUTION TIME:\", end - start, \"seconds\")\n",
    "predictY = svmGauss.predict(X_test)\n",
    "\n",
    "def evalua(results, Y):\n",
    "    numAciertos = 0\n",
    "    for i in range(len(Y_test)):\n",
    "        if results[i] == Y[i]: numAciertos += 1\n",
    "    return (numAciertos/(len(Y_test)))*100\n",
    "\n",
    "success = evalua(predictY, Y_test)\n",
    "models_times[3] = success\n",
    "print(\"\\nPREDICTIONS SVM GAUSS\",success)"
   ]
  },
  {
   "cell_type": "code",
   "execution_count": 46,
   "metadata": {},
   "outputs": [
    {
     "data": {
      "image/png": "[encoded data removed]",
      "text/plain": [
       "<Figure size 432x720 with 1 Axes>"
      ]
     },
     "metadata": {
      "needs_background": "light"
     },
     "output_type": "display_data"
    }
   ],
   "source": [
    "#comparacion final\n",
    "xBars = ['Logistic Regression: ', \n",
    "         'Neural Networks: ' , \n",
    "         'SVM Lineal: ' , \n",
    "         'SVM Gaussian: ']        \n",
    "ancho = 0.8\n",
    "fig, ax = plt.subplots(figsize=(6,10))\n",
    "index = np.arange(len(xBars))\n",
    "plt.bar(index, [models_times[0], models_times[1], models_times[2], models_times[3]], ancho, color='#04B486')\n",
    "plt.xlabel('COMPARACIÓN DE METODOS', fontsize=15)\n",
    "plt.ylabel('PORCENTAJE DE ÉXITO (%)', fontsize=15)\n",
    "plt.xticks(index, xBars, fontsize=8, rotation=0)\n",
    "plt.ylim((0, 100))\n",
    "plt.show()"
   ]
  },
  {
   "cell_type": "markdown",
   "metadata": {},
   "source": [
    "# Analisis:"
   ]
  },
  {
   "cell_type": "markdown",
   "metadata": {},
   "source": [
    "\n",
    "### Regresión logística:\n",
    "    Basandonos en lo explicado en clase, hemos calculdo las thetas óptimas para\n",
    "    llevar acabo las predicciones. Su porcentaje de acierto es de 72,5%.\n",
    "    Podemos concluir que la predicción no es especialmente fiable.\n",
    "    \n",
    "                Resultado: 72,53% en 1,69 s\n",
    "\n",
    "### Red Neuronal:\n",
    "    Hemos implementado metodos para el calculo de la derivada de la función\n",
    "    sigmoide, un algoritmo de propagación hacia atras para calcular el\n",
    "    gradiente, obteniendo asi las thetas optimas. AL contrario de lo que cabría \n",
    "    esperar, su porcentaje de exito es de 62%, por lo que deja mucho que desear \n",
    "    como predictor.\n",
    "    \n",
    "                Resultado: 62,74% en 1.06 s\n",
    "    \n",
    "\n",
    "### SVM:\n",
    "    Hemos usado la libreria sklearn tal y como se especificó en la asignatura.\n",
    "####      Linear:\n",
    "                Resultados: 59,8% en 0,72 s\n",
    "####      Gaussiano:\n",
    "                Resultados: 66,53% en 0,80 s\n"
   ]
  },
  {
   "cell_type": "markdown",
   "metadata": {},
   "source": [
    "# Conclusiones:\n",
    "\n",
    "\n",
    "Una vez obtenidos los datos y con las gráficas comparativas a disposición, llegamos a la conclusión de que aun asumiendo que este tipo de enfoques e información a nuestro alcance pueden no ser los ideales para analizar este campo creemos que los resultados obtenidos por los predictores dejan mucho que desear y podrian ser mejorados en gran medida. No creemos que el tema a analizar sea uno sencillo en vista del abanico de opiniones y gustos que uno puede encontrar en la gente, incrementado mas si cabe en el ambito de la ropa. \n",
    "\n",
    "Si tuviesemos que aventurarnos a decir que campo de los usados en el proyecto tiene un mayor peso en la calificación nos debatimos entre la relación entre el precio y el retail price(precio en otras paginas/tiendas) o las unidades vendidas.\n",
    "\n",
    "Para finalizar, si bien la Regresión Logística es el método que mayor acierto nos proporciona, es seguido de cerca por las SVM(Gauss) con solo un 6% menos de acierto y una reducción en el tiempo del  52.66%."
   ]
  }
 ],
 "metadata": {
  "kernelspec": {
   "display_name": "Python 3",
   "language": "python",
   "name": "python3"
  },
  "language_info": {
   "codemirror_mode": {
    "name": "ipython",
    "version": 3
   },
   "file_extension": ".py",
   "mimetype": "text/x-python",
   "name": "python",
   "nbconvert_exporter": "python",
   "pygments_lexer": "ipython3",
   "version": "3.8.3"
  }
 },
 "nbformat": 4,
 "nbformat_minor": 4
}
